{
 "cells": [
  {
   "cell_type": "markdown",
   "id": "5693fddd-843b-4eb7-923e-975e48cb76af",
   "metadata": {},
   "source": [
    "Q1. How can you create a Bokeh plot using Python code?"
   ]
  },
  {
   "cell_type": "code",
   "execution_count": null,
   "id": "2849a5ec-22e9-48e8-91df-97e30a105251",
   "metadata": {},
   "outputs": [],
   "source": [
    "from bokeh.plotting import figure, output_file, show\n",
    "\n",
    "# Prepare data\n",
    "x = [1, 2, 3, 4, 5]\n",
    "y = [6, 7, 2, 4, 8]\n",
    "\n",
    "# Create a figure\n",
    "plot = figure(title='Example Bokeh Plot', x_axis_label='X-axis', y_axis_label='Y-axis')\n",
    "\n",
    "# Add a line glyph\n",
    "plot.line(x, y, legend_label='Line', line_width=2, line_color='blue')\n",
    "\n",
    "# Output to an HTML file (optional)\n",
    "output_file('bokeh_plot.html')\n",
    "\n",
    "# Show the plot\n",
    "show(plot)\n"
   ]
  },
  {
   "cell_type": "markdown",
   "id": "a7865751-e824-44b2-98c5-277cdd3659b3",
   "metadata": {},
   "source": [
    "Q2. What are glyphs in Bokeh, and how can you add them to a Bokeh plot? Explain with an example.\n",
    "Ans:-In Bokeh, glyphs are visual representations of data on a plot. They include various geometric shapes such as lines, circles, rectangles, triangles, and more. Glyphs are added to a Bokeh plot to visually convey information from the data. Each type of glyph has specific attributes (e.g., color, size, transparency) that can be customized based on the data or specific requirements."
   ]
  },
  {
   "cell_type": "code",
   "execution_count": null,
   "id": "960ed483-bb20-4f37-8a9b-be7cec5a25df",
   "metadata": {},
   "outputs": [],
   "source": [
    "from bokeh.plotting import figure, output_file, show\n",
    "\n",
    "# Prepare data\n",
    "x = [1, 2, 3, 4, 5]\n",
    "y = [6, 7, 2, 4, 8]\n",
    "\n",
    "# Create a figure\n",
    "plot = figure(title='Bokeh Plot with Glyphs', x_axis_label='X-axis', y_axis_label='Y-axis', width=400, height=300)\n",
    "\n",
    "# Add glyphs to the plot\n",
    "plot.line(x, y, legend_label='Line', line_width=2, line_color='blue')\n",
    "\n",
    "# Circle glyph\n",
    "plot.circle(x, y, legend_label='Circle', size=10, color='red', fill_alpha=0.6)\n",
    "\n",
    "# Triangle glyph\n",
    "plot.triangle(x, y, legend_label='Triangle', size=10, color='green', angle=0.4)\n",
    "\n",
    "# Add a rectangle glyph\n",
    "plot.square(x, y, legend_label='Square', size=10, color='orange', angle=0.4)\n",
    "\n",
    "# Output to an HTML file\n",
    "output_file('bokeh_plot_with_glyphs.html')\n",
    "\n",
    "# Show the plot\n",
    "show(plot)\n"
   ]
  },
  {
   "cell_type": "markdown",
   "id": "36061c72-77b6-4dad-b653-d882bbbfd2a8",
   "metadata": {},
   "source": [
    "Q3. How can you customize the appearance of a Bokeh plot, including the axes, title, and legend?"
   ]
  },
  {
   "cell_type": "code",
   "execution_count": null,
   "id": "7aa20444-0033-4d08-9da4-cfceb4ff8745",
   "metadata": {},
   "outputs": [],
   "source": [
    "from bokeh.plotting import figure, output_file, show\n",
    "\n",
    "# Prepare data\n",
    "x = [1, 2, 3, 4, 5]\n",
    "y = [6, 7, 2, 4, 8]\n",
    "\n",
    "# Create a figure with customized appearance\n",
    "plot = figure(\n",
    "    title='Customized Bokeh Plot',\n",
    "    x_axis_label='X-axis Label',\n",
    "    y_axis_label='Y-axis Label',\n",
    "    width=500,\n",
    "    height=400,\n",
    "    x_range=(0, 6),  # Set x-axis range\n",
    "    y_range=(0, 10),  # Set y-axis range\n",
    ")\n",
    "\n",
    "# Add a line glyph\n",
    "plot.line(x, y, legend_label='Line', line_width=2, line_color='blue')\n",
    "\n",
    "# Circle glyph\n",
    "plot.circle(x, y, legend_label='Circle', size=10, color='red', fill_alpha=0.6)\n",
    "\n",
    "# Customize legend\n",
    "plot.legend.title = 'My Legend'\n",
    "plot.legend.location = 'top_left'\n",
    "plot.legend.background_fill_color = 'lightgray'\n",
    "\n",
    "# Output to an HTML file\n",
    "output_file('customized_bokeh_plot.html')\n",
    "\n",
    "# Show the plot\n",
    "show(plot)\n"
   ]
  },
  {
   "cell_type": "markdown",
   "id": "a8cec3ef-dbce-47b6-b4ec-63956d4347fd",
   "metadata": {},
   "source": [
    "Q4. What is a Bokeh server, and how can you use it to create interactive plots that can be updated in\n",
    "real time?\n",
    "Ans:-Bokeh Server:\r\n",
    "A Bokeh server is a Python server that allows you to create interactive Bokeh plots and applications with real-time updates. It enables the creation of dynamic, interactive web-based visualizations that can respond to user inputs or external events. Bokeh server extends the capabilities of static Bokeh plots by adding a layer of interactivity and reactivity.\r\n",
    "\r\n",
    "Key Features of Bokeh Server:\r\n",
    "\r\n",
    "Real-Time Updates: Bokeh server applications can update and react to changes in data, user interactions, or external events in real time.\r\n",
    "Widgets and Controls: Bokeh server supports the integration of various widgets (sliders, buttons, text inputs, etc.) and controls to interact with the plot dynamically."
   ]
  },
  {
   "cell_type": "code",
   "execution_count": null,
   "id": "222d7e82-280f-4d63-bd90-b0534d73a324",
   "metadata": {},
   "outputs": [],
   "source": [
    "from bokeh.plotting import figure, curdoc\n",
    "from bokeh.models import Slider\n",
    "\n",
    "# Create a simple plot\n",
    "plot = figure(plot_width=400, plot_height=400)\n",
    "line = plot.line(x=[1, 2, 3, 4, 5], y=[6, 7, 2, 4, 8])\n",
    "\n",
    "# Create a slider widget\n",
    "slider = Slider(start=1, end=10, value=1, step=1, title=\"Multiplier\")\n",
    "\n",
    "# Define a callback function\n",
    "def update_data(attr, old, new):\n",
    "    line.data_source.data['y'] = [i * slider.value for i in [6, 7, 2, 4, 8]]\n",
    "\n",
    "# Attach the callback to the slider's value property\n",
    "slider.on_change('value', update_data)\n",
    "\n",
    "# Add plot and slider to the document\n",
    "curdoc().add_root(plot)\n",
    "curdoc().add_root(slider)\n"
   ]
  },
  {
   "cell_type": "markdown",
   "id": "1e2249eb-1621-426a-86c1-8b1e5a1e1270",
   "metadata": {},
   "source": [
    "Q5. How can you embed a Bokeh plot into a web page or dashboard using Flask or Django?"
   ]
  }
 ],
 "metadata": {
  "kernelspec": {
   "display_name": "Python 3 (ipykernel)",
   "language": "python",
   "name": "python3"
  },
  "language_info": {
   "codemirror_mode": {
    "name": "ipython",
    "version": 3
   },
   "file_extension": ".py",
   "mimetype": "text/x-python",
   "name": "python",
   "nbconvert_exporter": "python",
   "pygments_lexer": "ipython3",
   "version": "3.12.0"
  }
 },
 "nbformat": 4,
 "nbformat_minor": 5
}
